{
 "cells": [
  {
   "cell_type": "markdown",
   "id": "fa398ba4",
   "metadata": {},
   "source": [
    "# 1 Data"
   ]
  },
  {
   "cell_type": "markdown",
   "id": "6bde7519",
   "metadata": {},
   "source": [
    "The first step is to acquire the data we will be working on. Each file we will use (see https://snap.stanford.edu/data/sx-stackoverflow.html) are:\n",
    "- `a2q`: Answers to questions - User `u` answered user `v`'s question a\\t time `t`\n",
    "- `c2a`: Comments to questions - User `u` commented on user `v`'s question at time `t`\n",
    "- `c2q`: Comments to answers - User `u` commented on user `v`'s answer at time `t`\n",
    "\n",
    "Those files will be interpreted as (weighted) graphs and then merged together. Since the dates are provided with a very high precision we will round it to a reasonable value (e.g. day, hours). Moreover, since the data is a lot we will only focus on a smaller intrerval of time. "
   ]
  },
  {
   "cell_type": "code",
   "execution_count": 1,
   "id": "799827a0",
   "metadata": {},
   "outputs": [],
   "source": [
    "import pandas as pd\n",
    "import numpy as np\n",
    "from tqdm import tqdm \n",
    "import networkx as nx\n",
    "import csv\n",
    "import functionalities\n",
    "import math\n",
    "import datetime, time"
   ]
  },
  {
   "cell_type": "markdown",
   "id": "14b0954c",
   "metadata": {},
   "source": [
    "### Read files as Pandas' dataframes and add a new \"type\" column and a new \"weights\" column to the datasets"
   ]
  },
  {
   "cell_type": "code",
   "execution_count": 2,
   "id": "4a3de486",
   "metadata": {},
   "outputs": [],
   "source": [
    "# EXECUTE ONLY ONCE\n",
    "# REMARK: The execution of this cell can take a few seconds\n",
    "\n",
    "a2q = pd.read_csv('sx-stackoverflow-a2q.txt', sep = \" \", names = ['u','v','t'])  \n",
    "a2q['type'] = 'a2q'\n",
    "a2q['weight'] = 0.5"
   ]
  },
  {
   "cell_type": "code",
   "execution_count": 3,
   "id": "49adce68",
   "metadata": {},
   "outputs": [],
   "source": [
    "# EXECUTE ONLY ONCE\n",
    "# REMARK: The execution of this cell can take a few seconds\n",
    "\n",
    "c2a = pd.read_csv('sx-stackoverflow-c2a.txt', sep=\" \", names = ['u','v','t'])\n",
    "c2a['type'] = 'c2a'\n",
    "c2a['weight'] = 0.2"
   ]
  },
  {
   "cell_type": "code",
   "execution_count": 4,
   "id": "8103da8f",
   "metadata": {},
   "outputs": [],
   "source": [
    "# EXECUTE ONLY ONCE\n",
    "# REMARK: The execution of this cell can take a few seconds\n",
    "\n",
    "c2q = pd.read_csv('sx-stackoverflow-c2q.txt', sep=\" \", names = ['u','v','t']) \n",
    "c2q['type'] = 'c2q'\n",
    "c2q['weight'] = 0.35"
   ]
  },
  {
   "cell_type": "markdown",
   "id": "2c128c79",
   "metadata": {},
   "source": [
    "### Get time interval"
   ]
  },
  {
   "cell_type": "code",
   "execution_count": 5,
   "id": "9c379493",
   "metadata": {},
   "outputs": [],
   "source": [
    "files = [a2q, c2a, c2q]\n",
    "\n",
    "# in unix timestamps 2021/12/05 00:00 corresponds to 1638662400 \n",
    "inf = 1638662400 \n",
    "sup = 0\n",
    "\n",
    "time_interval = list(functionalities.get_time_interval(files, inf, sup))"
   ]
  },
  {
   "cell_type": "code",
   "execution_count": 6,
   "id": "5bcea1a1",
   "metadata": {},
   "outputs": [
    {
     "name": "stdout",
     "output_type": "stream",
     "text": [
      "First timestamp corresponds to: 2008-08-01\n",
      "Last timestamp corresponds to: 2016-03-06\n"
     ]
    }
   ],
   "source": [
    "print(\"First timestamp corresponds to:\",datetime.datetime.fromtimestamp(time_interval[0]).strftime(\"%Y-%m-%d\"),sep=\" \")\n",
    "print(\"Last timestamp corresponds to:\",datetime.datetime.fromtimestamp(time_interval[1]).strftime(\"%Y-%m-%d\"),sep=\" \")"
   ]
  },
  {
   "cell_type": "markdown",
   "id": "feb09815",
   "metadata": {},
   "source": [
    "**Remark .** We will choose to study the time interval (01-01-2010, 07-01-2010). See for example https://www.epochconverter.com"
   ]
  },
  {
   "cell_type": "code",
   "execution_count": 7,
   "id": "7f62d6ab",
   "metadata": {},
   "outputs": [
    {
     "name": "stdout",
     "output_type": "stream",
     "text": [
      "our time interval is from 2010-01-01 to 2010-01-10\n"
     ]
    }
   ],
   "source": [
    "time_interval = [1262304000,1263081600]\n",
    "end = datetime.datetime.fromtimestamp(time_interval[1]).strftime(\"%Y-%m-%d\")\n",
    "start = datetime.datetime.fromtimestamp(time_interval[0]).strftime(\"%Y-%m-%d\")\n",
    "print(f'our time interval is from {start} to {end}')"
   ]
  },
  {
   "cell_type": "markdown",
   "id": "c51eb23c",
   "metadata": {},
   "source": [
    "### Create graphs"
   ]
  },
  {
   "cell_type": "code",
   "execution_count": 8,
   "id": "c4ac797d",
   "metadata": {},
   "outputs": [],
   "source": [
    "def graph_builder(df,time_interval):\n",
    "    \"\"\"\n",
    "    Function that builds a graph given a pandas dataframe \n",
    "    \n",
    "    INPUT: df, time_interval: a pandas dataframe and a list of integers, respectively\n",
    "    Output: G, a networkx DiGraph object\n",
    "    \"\"\"\n",
    "    # initialization\n",
    "    G = nx.Graph()\n",
    "    \n",
    "    # cancel loops \n",
    "    df = df[df['u'] != df['v']]\n",
    "    \n",
    "    # cancel elements exceeding time bounds\n",
    "    df = df[df['t'].between(time_interval[0], time_interval[1])]\n",
    "    \n",
    "    #adding weights column to the dataframe\n",
    "    df = functionalities.weighter(df)\n",
    "    \n",
    "    # See https://www.kite.com/python/docs/networkx.from_pandas_edgelist\n",
    "    G = nx.from_pandas_edgelist(df, 'u', 'v', ['t', 'type', 'weight'], create_using = nx.DiGraph())\n",
    "\n",
    "    return G"
   ]
  },
  {
   "cell_type": "code",
   "execution_count": 9,
   "id": "d621793b",
   "metadata": {},
   "outputs": [],
   "source": [
    "# EXECUTE ONLY ONCE\n",
    "# REMARK: The execution of this cell can take a few second\n",
    "\n",
    "G_a2q = nx.DiGraph()\n",
    "G_a2q = graph_builder(a2q, time_interval)\n",
    "G_c2a = graph_builder(c2a, time_interval)\n",
    "G_c2q = graph_builder(c2q, time_interval)"
   ]
  },
  {
   "cell_type": "code",
   "execution_count": 10,
   "id": "d5de8600",
   "metadata": {},
   "outputs": [],
   "source": [
    "# Uncomment the following lines to inspect the graphs just created\n",
    "\n",
    "# G_a2q.edges.data(\"weight\", default=1)\n",
    "# G_c2a.edges.data(\"weight\", default=1)\n",
    "# G_c2q.edges.data(\"weight\", default=1)"
   ]
  },
  {
   "cell_type": "markdown",
   "id": "b8ba0b65",
   "metadata": {},
   "source": [
    "### Merging "
   ]
  },
  {
   "cell_type": "code",
   "execution_count": 11,
   "id": "ce445e61",
   "metadata": {},
   "outputs": [],
   "source": [
    "G = nx.compose(G_a2q, G_c2a)\n",
    "G = nx.compose(G, G_c2q)"
   ]
  },
  {
   "cell_type": "code",
   "execution_count": 12,
   "id": "75e9d57d",
   "metadata": {},
   "outputs": [
    {
     "name": "stdout",
     "output_type": "stream",
     "text": [
      "51658\n",
      "50075\n"
     ]
    }
   ],
   "source": [
    "# check\n",
    "print(len(G_a2q.edges()) + len(G_c2a.edges()) + len(G_c2q.edges()))\n",
    "print(len(G.edges()))"
   ]
  },
  {
   "cell_type": "code",
   "execution_count": 13,
   "id": "74669c67",
   "metadata": {},
   "outputs": [
    {
     "data": {
      "text/html": [
       "<div>\n",
       "<style scoped>\n",
       "    .dataframe tbody tr th:only-of-type {\n",
       "        vertical-align: middle;\n",
       "    }\n",
       "\n",
       "    .dataframe tbody tr th {\n",
       "        vertical-align: top;\n",
       "    }\n",
       "\n",
       "    .dataframe thead th {\n",
       "        text-align: right;\n",
       "    }\n",
       "</style>\n",
       "<table border=\"1\" class=\"dataframe\">\n",
       "  <thead>\n",
       "    <tr style=\"text-align: right;\">\n",
       "      <th></th>\n",
       "      <th>0</th>\n",
       "      <th>1</th>\n",
       "      <th>2</th>\n",
       "    </tr>\n",
       "  </thead>\n",
       "  <tbody>\n",
       "    <tr>\n",
       "      <th>0</th>\n",
       "      <td>144424</td>\n",
       "      <td>102398</td>\n",
       "      <td>0.576</td>\n",
       "    </tr>\n",
       "    <tr>\n",
       "      <th>1</th>\n",
       "      <td>144424</td>\n",
       "      <td>184273</td>\n",
       "      <td>0.576</td>\n",
       "    </tr>\n",
       "    <tr>\n",
       "      <th>2</th>\n",
       "      <td>144424</td>\n",
       "      <td>108714</td>\n",
       "      <td>0.576</td>\n",
       "    </tr>\n",
       "    <tr>\n",
       "      <th>3</th>\n",
       "      <td>144424</td>\n",
       "      <td>242225</td>\n",
       "      <td>0.576</td>\n",
       "    </tr>\n",
       "    <tr>\n",
       "      <th>4</th>\n",
       "      <td>144424</td>\n",
       "      <td>62138</td>\n",
       "      <td>0.576</td>\n",
       "    </tr>\n",
       "  </tbody>\n",
       "</table>\n",
       "</div>"
      ],
      "text/plain": [
       "        0       1      2\n",
       "0  144424  102398  0.576\n",
       "1  144424  184273  0.576\n",
       "2  144424  108714  0.576\n",
       "3  144424  242225  0.576\n",
       "4  144424   62138  0.576"
      ]
     },
     "execution_count": 13,
     "metadata": {},
     "output_type": "execute_result"
    }
   ],
   "source": [
    "# check\n",
    "df = pd.DataFrame(G.edges.data(\"weight\", default=1))\n",
    "df.head()"
   ]
  },
  {
   "cell_type": "markdown",
   "id": "c33413db",
   "metadata": {},
   "source": [
    "# 2 Implementation of the backend"
   ]
  },
  {
   "cell_type": "markdown",
   "id": "3d6ca761",
   "metadata": {},
   "source": [
    "The goal of this part is the implementation of a unique system that has different functionalities. The program takes in input always a positive integer `i`: given the input, the program has to run Functionality `i`, applied to the graph created before."
   ]
  },
  {
   "cell_type": "markdown",
   "id": "094db0f9",
   "metadata": {},
   "source": [
    "**Remark.** Most of the functions we will need for this and the next part (e.g. the function `distance` that calculates the shortest path between two nodes) are available in the `functionalities.py` file (here imported as `functionalities`)."
   ]
  },
  {
   "cell_type": "markdown",
   "id": "647c5ddb",
   "metadata": {},
   "source": [
    "## Functionality 1 - Get the overall features of the graph\n",
    "It takes in input: \n",
    "- One of the 3 graphs\n",
    "\n",
    "It outputs:\n",
    "- Whether the graph is directed or not\n",
    "- Number of users\n",
    "- Number of answers/comments\n",
    "- Average number of links per user\n",
    "- Density degree of the graph\n",
    "- Whether the graph is sparse or dense"
   ]
  },
  {
   "cell_type": "markdown",
   "id": "f2e288c2",
   "metadata": {},
   "source": [
    "**Remark .** We will say that the graphs are always directed. Indeed there is a \"natural\" direction given by the flow of time. If there is an edge between two users it means that there was an interaction among them, so if user `a` comments or answers a user `b` this means that `b` posted something that `a` can answer to or comment to, so the edge between `a` and `b` will be oriented from `b` to `a`."
   ]
  },
  {
   "cell_type": "code",
   "execution_count": 14,
   "id": "9288390d",
   "metadata": {},
   "outputs": [],
   "source": [
    "def F1(G):\n",
    "    features = [] \n",
    "\n",
    "    directed = \"yes\"\n",
    "        \n",
    "    # number of interactions (answers or comments)\n",
    "    tot_interactions = len(G.edges())\n",
    "    \n",
    "    # number of users\n",
    "    tot_users = len(G.nodes())\n",
    "    \n",
    "    # average number of links and density\n",
    "    avg_links = 0\n",
    "    density = 0\n",
    "    if tot_users: \n",
    "        \n",
    "        # average number of links\n",
    "        avg_links = tot_interactions/tot_users\n",
    "        \n",
    "        # density\n",
    "        # see https://en.wikipedia.org/wiki/Dense_graph\n",
    "        if directed == \"yes\":\n",
    "            density = 2*tot_interactions/(tot_users*(tot_users-1))\n",
    "        else:\n",
    "            density = tot_interactions/(tot_users*(tot_users-1))\n",
    "        \n",
    "        dense = None\n",
    "        \n",
    "        # see https://stackoverflow.com/questions/12599143\n",
    "        if G.number_of_edges() >= int(G.number_of_nodes()*math.log(G.number_of_nodes())):\n",
    "            dense = \"yes\"\n",
    "        else:\n",
    "            dense ='no'\n",
    "\n",
    "    features.append((directed, tot_users, tot_interactions, avg_links, density, dense))\n",
    "    return features"
   ]
  },
  {
   "cell_type": "code",
   "execution_count": 15,
   "id": "f1486a6e",
   "metadata": {},
   "outputs": [
    {
     "name": "stdout",
     "output_type": "stream",
     "text": [
      "[('yes', 13246, 26030, 1.9651215461271327, 0.0002967340953004353, 'no')]\n",
      "[('yes', 9704, 18407, 1.8968466611706514, 0.00039098148225716816, 'no')]\n",
      "[('yes', 5404, 7221, 1.3362324204293117, 0.0004946261041752033, 'no')]\n"
     ]
    }
   ],
   "source": [
    "# check\n",
    "graphs = [G_a2q, G_c2a, G_c2q]\n",
    "for graph in graphs:\n",
    "    print(F1(graph))"
   ]
  },
  {
   "cell_type": "markdown",
   "id": "42c2ff54",
   "metadata": {},
   "source": [
    "## Functionality 2 - Find the best users!"
   ]
  },
  {
   "cell_type": "markdown",
   "id": "4f8b36fb",
   "metadata": {},
   "source": [
    "Functionality 2 takes in input:\n",
    "- A user/node\n",
    "- An interval of time\n",
    "- One of the following metrics: Betweeness, PageRank, Closeness, Centrality, DegreeCentrality\n",
    "\n",
    "The output should return:\n",
    "- The value of the given metric applied over the complete graph for the given interval of time"
   ]
  },
  {
   "cell_type": "markdown",
   "id": "fac7b5fc",
   "metadata": {},
   "source": [
    "**Remark .** Most of the definitions used in the following are taken from here: http://aris.me/contents/teaching/data-mining-ds-2015/resources/graphs.pdf. In particular:\n",
    "- Given a graph $G=(V,E)$, the *centrality* of a node $v$ is just its degree.\n",
    "- The *degree centrality* of a node $v$ with degree $deg(v)$ is given by $deg(v)\\cdot (|V|-1)^{-1}$\n",
    "- The *betweeness* of a node $v$ is given by $$\\sum_{u,w} \\frac{g_{u,w}^v/g_{u,w}}{{{n-1} \\choose {2}}} $$ where the sum runs over $V\\setminus\\{v\\}$ and $g_{u,w}^v$ is the number of shortest paths between the 2 nodes (u,w) passing through v, similarly $g_{u,w}$ is the number of shortest paths between the 2 nodes (u,w),\n",
    "- The *Page Rank* of a page $P_i$ is equal to $\\frac{(1 - damping factor)}{Number Of Pages} + damping factor * (\\sum$ of each page $P_{j}$’s $PageRank)$, where $P_j$ links to $P_i$, divided over the number of outbound links of $P_j$. Moreover $PR(p_i) = \\frac{1-d}{N} + d \\sum_{(p_j \\in M(p_i))} \\frac{PR(p_j)}{L(p_j)}$ where $p_{1},p_{2},...,p_{N}$ are the pages under consideration, $M(p_{i})$ is the set of pages that link to $p_{i}$, $L(p_{j})$ is the number of outbound links on page $p_{j}$, and $N$ is the total number of pages"
   ]
  },
  {
   "cell_type": "code",
   "execution_count": 16,
   "id": "17ab3934",
   "metadata": {
    "scrolled": true
   },
   "outputs": [
    {
     "name": "stdout",
     "output_type": "stream",
     "text": [
      "1\n"
     ]
    }
   ],
   "source": [
    "# Example\n",
    "print(functionalities.centrality(G,68150))"
   ]
  },
  {
   "cell_type": "code",
   "execution_count": 17,
   "id": "c7f3700e",
   "metadata": {},
   "outputs": [
    {
     "name": "stderr",
     "output_type": "stream",
     "text": [
      "100%|██████████| 15410/15410 [00:00<00:00, 390850.86it/s]"
     ]
    },
    {
     "name": "stdout",
     "output_type": "stream",
     "text": [
      "7704.5\n"
     ]
    },
    {
     "name": "stderr",
     "output_type": "stream",
     "text": [
      "\n"
     ]
    }
   ],
   "source": [
    "# Example\n",
    "print(functionalities.closeness(G,68150))"
   ]
  },
  {
   "cell_type": "code",
   "execution_count": 18,
   "id": "25ca553e",
   "metadata": {},
   "outputs": [
    {
     "name": "stdout",
     "output_type": "stream",
     "text": [
      "(2, [144424, 102398])\n"
     ]
    }
   ],
   "source": [
    "# Example\n",
    "print(functionalities.distance(G,144424,102398))"
   ]
  },
  {
   "cell_type": "code",
   "execution_count": 19,
   "id": "963b7a6f",
   "metadata": {},
   "outputs": [],
   "source": [
    "def F2(G, v, metric): \n",
    "    if metric == 'Betweeness':\n",
    "        print(\"Keep calm, this functions takes a long long time!\")\n",
    "        return functionalities.betweeness(G,v)\n",
    "    \n",
    "    elif metric == 'PageRank':\n",
    "        return functionalities.page_rank(G, d = 0.85, iters = 10)\n",
    "    \n",
    "    elif metric == 'Closeness':\n",
    "        print(\"Keep calm, this functions takes a long long time!\")\n",
    "        return functionalities.closeness(G,v)\n",
    "        \n",
    "    elif metric == 'Centrality':\n",
    "        return functionalities.centrality(G,v)\n",
    "    \n",
    "    elif metric == 'Degree Centrality':\n",
    "        return functionalities.degree_centrality(G,v)\n",
    "    else:\n",
    "        print(\"Invalid metric\")"
   ]
  },
  {
   "cell_type": "code",
   "execution_count": 20,
   "id": "67830c3c",
   "metadata": {},
   "outputs": [
    {
     "data": {
      "text/plain": [
       "41"
      ]
     },
     "execution_count": 20,
     "metadata": {},
     "output_type": "execute_result"
    }
   ],
   "source": [
    "# Example\n",
    "F2(G, 144424, \"Centrality\")"
   ]
  },
  {
   "cell_type": "markdown",
   "id": "a9449d06",
   "metadata": {},
   "source": [
    "## Functionality 3"
   ]
  },
  {
   "cell_type": "markdown",
   "id": "9e5bd74b",
   "metadata": {},
   "source": [
    "It takes in input:\n",
    "- A sequence of users p = [p_2, ..., p_n-1]\n",
    "- Initial user p_1 and an end user p_n\n",
    "\n",
    "\n",
    "Implement an algorithm that returns the shortest walk that goes from user p_j to p_n, and that visits in order the nodes in p. \n",
    "\n",
    "**Remark.** We don't need to specify the time interval since this is implicit in the definition of the graphs we are using\n"
   ]
  },
  {
   "cell_type": "code",
   "execution_count": 21,
   "id": "598a5799",
   "metadata": {},
   "outputs": [],
   "source": [
    "def F3(G,users,start,end):\n",
    "    s_p = functionalities.distance(G,start,users[0]) # or dijkstra\n",
    "    dist = s_p[0]\n",
    "    path = s_p[1]\n",
    "    \n",
    "    if dist == -1:\n",
    "        return False\n",
    "    \n",
    "    for i in range(len(users)-1):\n",
    "        s_p = functionalities.distance(G,users[i],users[i+1])\n",
    "        if s_p[0] == -1:\n",
    "            return False\n",
    "        dist += s_p[0]\n",
    "        path.append(s_p[1][1:])\n",
    "        \n",
    "    s_p = functionalities.distance(G,users[-1],end)\n",
    "    if s_p[0] == -1:\n",
    "            return False\n",
    "        \n",
    "    dist += s_p[0]\n",
    "    path.extend(s_p[1][1:]) \n",
    "    \n",
    "    return dist,path"
   ]
  },
  {
   "cell_type": "markdown",
   "id": "3e582106",
   "metadata": {},
   "source": [
    "## Functionality 4"
   ]
  },
  {
   "cell_type": "markdown",
   "id": "34292c3f",
   "metadata": {},
   "source": [
    "It takes in input:\n",
    "\n",
    "- Two different intervals of time (disjoint or not), which will lead to two different graphs, G_1 (associated to interval 1) and G_2 (associated to interval 2)\n",
    "- Two users which are unique to each interval of time (user_1 only appears in interval 1, while user_2 only appears in interval 2)\n",
    "\n",
    "The function returns the minimum number of links (considering their weights) required to disconnect the two users."
   ]
  },
  {
   "cell_type": "code",
   "execution_count": 22,
   "id": "284045b2",
   "metadata": {},
   "outputs": [],
   "source": [
    "def dr_e(G,time):\n",
    "    drop=[]\n",
    "    time=(time[0],time[1])\n",
    "\n",
    "    for u,v,t in G.edges(data=True):\n",
    "        if not time[0] <= t['t'] <= time[1]:\n",
    "            drop.append((u, v))\n",
    "    [G.remove_edge(u,v) for (u,v) in drop]\n",
    "    return G"
   ]
  },
  {
   "cell_type": "code",
   "execution_count": 23,
   "id": "197213f7",
   "metadata": {},
   "outputs": [],
   "source": [
    "def F4(G,time_interval_1,time_interval_2,u1,u2):\n",
    "    g1 = G.copy()\n",
    "    g2 = G.copy()\n",
    "    _g1 = dr_e(g1,time_interval_1)\n",
    "    _g2 = dr_e(g2,time_interval_2)\n",
    "    graph_total = nx.compose(_g1,_g2)\n",
    "    path = functionalities.distance(graph_total,u1,u2)[1]\n",
    "    \n",
    "\n",
    "    if path == []:\n",
    "        return 'Nodes are not connected'\n",
    "    weight = 0\n",
    "    n_l = 0\n",
    "    link_e = (path[0],path[1])\n",
    "    edges_disc = []\n",
    "    while path != []:\n",
    "        min_weight = math.inf\n",
    "        for i in range(len(path)-1):\n",
    "            j = i + 1\n",
    "            if graph_total[path[i]][path[j]]['weight'] < min_weight:\n",
    "                min_weight = graph_total[path[i]][path[j]]['weight']\n",
    "                link_e = (path[i],path[j])\n",
    "        weight += min_weight\n",
    "        n_l += 1\n",
    "        edges_disc.append(link_e)\n",
    "        #print(link_e)\n",
    "        graph_total.remove_edge(link_e[0],link_e[1])\n",
    "        path = functionalities.distance(graph_total,u1,u2)[1]\n",
    "        \n",
    "    print('Links to cut(min): ' +  str(n_l) + ', Total weight:' + str(weight))\n",
    "    \n",
    "    return edges_disc"
   ]
  },
  {
   "cell_type": "code",
   "execution_count": 24,
   "id": "98811ed0",
   "metadata": {},
   "outputs": [
    {
     "name": "stdout",
     "output_type": "stream",
     "text": [
      "Links to cut(min): 10, Total weight:2.229\n"
     ]
    },
    {
     "data": {
      "text/plain": [
       "[(185944, 3333),\n",
       " (50394, 3333),\n",
       " (8206, 238704),\n",
       " (572, 238704),\n",
       " (218978, 3333),\n",
       " (203104, 238704),\n",
       " (209359, 238704),\n",
       " (79909, 14148),\n",
       " (39742, 3333),\n",
       " (13422, 2509)]"
      ]
     },
     "execution_count": 24,
     "metadata": {},
     "output_type": "execute_result"
    }
   ],
   "source": [
    "# Example\n",
    "time_interval1 = [1262304000,1262504000]\n",
    "time_interval2 = [1262504000,1262604000]\n",
    "u1 = 61974\n",
    "u2 = 3333\n",
    "F4(G,time_interval1,time_interval2,u1,u2)"
   ]
  },
  {
   "cell_type": "markdown",
   "id": "b8bf71ca",
   "metadata": {},
   "source": [
    "# 3 Implemantation of the Frontend"
   ]
  },
  {
   "cell_type": "markdown",
   "id": "1d8a576b",
   "metadata": {},
   "source": [
    "We will build visualizations for users' queries results."
   ]
  },
  {
   "cell_type": "code",
   "execution_count": 25,
   "id": "abc66e6d",
   "metadata": {},
   "outputs": [],
   "source": [
    "import matplotlib.pyplot as plt\n",
    "from matplotlib.pyplot import figure"
   ]
  },
  {
   "cell_type": "markdown",
   "id": "ec4c093e",
   "metadata": {},
   "source": [
    "## Visualization 1 - Visualize the overall features of the graph"
   ]
  },
  {
   "cell_type": "markdown",
   "id": "8169f82f",
   "metadata": {},
   "source": [
    "Output a table with all of the information requested. The visualization also generates a plot of the density distribution of the graph provided as input."
   ]
  },
  {
   "cell_type": "code",
   "execution_count": 26,
   "id": "36d56547",
   "metadata": {},
   "outputs": [],
   "source": [
    "col_1 = pd.DataFrame([\"directed ?\", \"number of users:\", \"number of answers/comments\", \"average number of links per user:\",\\\n",
    "                      \"density degree\", \"dense ?\"])\n",
    "col_2 = pd.DataFrame(F1(G_a2q)).T"
   ]
  },
  {
   "cell_type": "code",
   "execution_count": 27,
   "id": "2a663185",
   "metadata": {},
   "outputs": [
    {
     "data": {
      "text/html": [
       "<div>\n",
       "<style scoped>\n",
       "    .dataframe tbody tr th:only-of-type {\n",
       "        vertical-align: middle;\n",
       "    }\n",
       "\n",
       "    .dataframe tbody tr th {\n",
       "        vertical-align: top;\n",
       "    }\n",
       "\n",
       "    .dataframe thead th {\n",
       "        text-align: right;\n",
       "    }\n",
       "</style>\n",
       "<table border=\"1\" class=\"dataframe\">\n",
       "  <thead>\n",
       "    <tr style=\"text-align: right;\">\n",
       "      <th></th>\n",
       "      <th>0</th>\n",
       "      <th>0</th>\n",
       "    </tr>\n",
       "  </thead>\n",
       "  <tbody>\n",
       "    <tr>\n",
       "      <th>0</th>\n",
       "      <td>directed ?</td>\n",
       "      <td>yes</td>\n",
       "    </tr>\n",
       "    <tr>\n",
       "      <th>1</th>\n",
       "      <td>number of users:</td>\n",
       "      <td>13246</td>\n",
       "    </tr>\n",
       "    <tr>\n",
       "      <th>2</th>\n",
       "      <td>number of answers/comments</td>\n",
       "      <td>26030</td>\n",
       "    </tr>\n",
       "    <tr>\n",
       "      <th>3</th>\n",
       "      <td>average number of links per user:</td>\n",
       "      <td>1.965122</td>\n",
       "    </tr>\n",
       "    <tr>\n",
       "      <th>4</th>\n",
       "      <td>density degree</td>\n",
       "      <td>0.000297</td>\n",
       "    </tr>\n",
       "    <tr>\n",
       "      <th>5</th>\n",
       "      <td>dense ?</td>\n",
       "      <td>no</td>\n",
       "    </tr>\n",
       "  </tbody>\n",
       "</table>\n",
       "</div>"
      ],
      "text/plain": [
       "                                   0         0\n",
       "0                         directed ?       yes\n",
       "1                   number of users:     13246\n",
       "2         number of answers/comments     26030\n",
       "3  average number of links per user:  1.965122\n",
       "4                     density degree  0.000297\n",
       "5                            dense ?        no"
      ]
     },
     "execution_count": 27,
     "metadata": {},
     "output_type": "execute_result"
    }
   ],
   "source": [
    "frames = [col_1,col_2]\n",
    "pd.concat(frames, axis =1)"
   ]
  },
  {
   "cell_type": "code",
   "execution_count": 28,
   "id": "a43add05",
   "metadata": {},
   "outputs": [],
   "source": [
    "def V1(G):\n",
    "    name = \"\"\n",
    "    if G==G_a2q:\n",
    "        name = \"G_a2q\"\n",
    "    elif G==G_c2q:\n",
    "        name = \"G_c2q\"\n",
    "    else:\n",
    "        name = \"G_c2a\"\n",
    "    plt.figure(figsize=(20, 6))\n",
    "    degrees = [functionalities.centrality(G,v) for v in G.nodes()]\n",
    "    plt.title(f'Degree Distribution of {name}')\n",
    "    plt.hist(degrees, bins=500, range=(0,40))\n",
    "    plt.show()"
   ]
  },
  {
   "cell_type": "code",
   "execution_count": 29,
   "id": "cab359ed",
   "metadata": {},
   "outputs": [
    {
     "data": {
      "image/png": "[encoded data removed]",
      "text/plain": [
       "<Figure size 1440x432 with 1 Axes>"
      ]
     },
     "metadata": {
      "needs_background": "light"
     },
     "output_type": "display_data"
    },
    {
     "data": {
      "image/png": "[encoded data removed]",
      "text/plain": [
       "<Figure size 1440x432 with 1 Axes>"
      ]
     },
     "metadata": {
      "needs_background": "light"
     },
     "output_type": "display_data"
    },
    {
     "data": {
      "image/png": "[encoded data removed]",
      "text/plain": [
       "<Figure size 1440x432 with 1 Axes>"
      ]
     },
     "metadata": {
      "needs_background": "light"
     },
     "output_type": "display_data"
    }
   ],
   "source": [
    "for G in [G_a2q, G_c2q, G_c2a]:\n",
    "    V1(G)"
   ]
  },
  {
   "cell_type": "markdown",
   "id": "27a3de05",
   "metadata": {},
   "source": [
    "## Visualization 2"
   ]
  },
  {
   "cell_type": "markdown",
   "id": "031233cb",
   "metadata": {},
   "source": [
    "Plot the input node and a subset of its neighbouring nodes such that the user can get a grasp of the importance of this input node. Also split the interval of time into equidistant ranges of time and show the metric evolution over time."
   ]
  },
  {
   "cell_type": "code",
   "execution_count": 30,
   "id": "47e82b81",
   "metadata": {},
   "outputs": [],
   "source": [
    "def V2(Graph, node, time_interval):\n",
    "    G_new = nx.Graph()\n",
    "    \n",
    "    #edges where 'node' is the predecessor\n",
    "    edges_pred = [(u,v,d) for u,v,d in Graph.edges(data = True) if u == node]\n",
    "    \n",
    "    \n",
    "    #edges where 'node' is the successor\n",
    "    edges_succ = [(u,v,d) for u,v,d in Graph.edges(data = True) if v == node]\n",
    "    \n",
    "    G_new.add_edges_from(edges_pred)\n",
    "    G_new.add_edges_from(edges_succ)\n",
    "    \n",
    "    G1, G2, G3, G4 = functionalities.time_splitter(G_new, time_interval)\n",
    "    \n",
    "    edges1 = G1.edges()\n",
    "    weights1 = [G1[u][v]['weight'] for u,v in edges1]\n",
    "    weights1 = [w*6 for w in weights1]\n",
    "\n",
    "    edges2 = G2.edges()\n",
    "    weights2 = [G2[u][v]['weight'] for u,v in edges2]\n",
    "    weights2 = [w*6 for w in weights2]\n",
    "    \n",
    "    edges3= G3.edges()\n",
    "    weights3 = [G3[u][v]['weight'] for u,v in edges3]\n",
    "    weights3 = [w*6 for w in weights3]\n",
    "    \n",
    "    edges4= G4.edges()\n",
    "    weights4 = [G4[u][v]['weight'] for u,v in edges4]\n",
    "    weights4 = [w*6 for w in weights4]\n",
    "    \n",
    "    #then the visual representation\n",
    "    figure(figsize=(10, 10), dpi=80)\n",
    "    \n",
    "    \n",
    "    plt.subplot(221) \n",
    "    plt.title('First interval')\n",
    "    nx.draw(G1, width=weights1, with_labels=True, node_color=\"blue\",\n",
    "            edgecolors = 'orange', node_size = 500, alpha = 0.9)    \n",
    "    \n",
    "    plt.subplot(222)\n",
    "    plt.title('Second interval')\n",
    "    nx.draw(G2, width=weights2, with_labels=True, node_color=\"violet\", \n",
    "            edgecolors = 'orange', node_size = 500, alpha = 0.9)    \n",
    "    \n",
    "    plt.subplot(223)\n",
    "    plt.title('Third interval')\n",
    "    nx.draw(G3, width=weights3, with_labels=True, node_color=\"green\",\n",
    "            edgecolors = 'orange', node_size = 500, alpha = 0.9)\n",
    "    \n",
    "    plt.subplot(224)\n",
    "    plt.title('Fourth interval')\n",
    "    nx.draw(G4, width=weights4, with_labels=True, node_color=\"orange\",\n",
    "            edgecolors = 'orange', node_size = 500, alpha = 0.9)\n",
    "    \n",
    "    plt.draw()"
   ]
  },
  {
   "cell_type": "code",
   "execution_count": 31,
   "id": "6dade0d0",
   "metadata": {},
   "outputs": [
    {
     "data": {
      "image/png": "[encoded data removed]",
      "text/plain": [
       "<Figure size 800x800 with 4 Axes>"
      ]
     },
     "metadata": {},
     "output_type": "display_data"
    }
   ],
   "source": [
    "# Example\n",
    "V2(G, 33732, time_interval)"
   ]
  },
  {
   "cell_type": "markdown",
   "id": "af1b5608",
   "metadata": {},
   "source": [
    "## Visualization 3"
   ]
  },
  {
   "cell_type": "markdown",
   "id": "e909ea43",
   "metadata": {},
   "source": [
    "Once the user runs Functionality 3, we want the system to show in output the Shortest Ordered Route."
   ]
  },
  {
   "cell_type": "code",
   "execution_count": 32,
   "id": "6546a52d",
   "metadata": {},
   "outputs": [],
   "source": [
    "def V3(G, users, start, end):\n",
    "    #we pick only the sequence of nodes generated (it's a list)\n",
    "    edges = F3(G, users, start, end)[1] \n",
    "    \n",
    "    edge_list = []\n",
    "    \n",
    "    #we create a list of every edge between 'start' and 'end'\n",
    "    for i in range(len(edges)-1):\n",
    "        edge_list.append((edges[i], edges[i+1]))\n",
    "    \n",
    "    figure(figsize=(10, 10), dpi=80)\n",
    "    G_new = G.edge_subgraph(edge_list)\n",
    "    \n",
    "    #we extract the weights from the graph to ponder the edges\n",
    "    weights = [G_new[u][v]['weight'] for u,v in G_new.edges()]\n",
    "    weights = [w*4 for w in weights]\n",
    "    plt.title('The shortest path between the users '+str(start)+' and '+str(end)+', passing by '+str(users))\n",
    "    \n",
    "    nx.draw(G_new, with_labels = True, node_color=\"orange\", width=weights)"
   ]
  },
  {
   "cell_type": "code",
   "execution_count": 33,
   "id": "3b8e65cb",
   "metadata": {},
   "outputs": [
    {
     "data": {
      "image/png": "[encoded data removed]",
      "text/plain": [
       "<Figure size 800x800 with 1 Axes>"
      ]
     },
     "metadata": {},
     "output_type": "display_data"
    }
   ],
   "source": [
    "# Example\n",
    "V3(G_a2q, [217332], 61974, 148559)"
   ]
  },
  {
   "cell_type": "markdown",
   "id": "3b53a670",
   "metadata": {},
   "source": [
    "## Visualization 4"
   ]
  },
  {
   "cell_type": "markdown",
   "id": "10ff1a25",
   "metadata": {},
   "source": [
    "Show a visualization of the links needed to be removed in order to disconnect both graphs."
   ]
  },
  {
   "cell_type": "code",
   "execution_count": 34,
   "id": "36b59778",
   "metadata": {},
   "outputs": [],
   "source": [
    "def V4(G, time_interval1, time_interval2, u1, u2):    \n",
    "    #by using the functionality 4, we extract the edges that we need to cut to separate the two graphs\n",
    "    edges_cut = F4(G,time_interval1,time_interval2,u1,u2)\n",
    "\n",
    "    G_new = G.edge_subgraph(edges_cut)\n",
    "\n",
    "    pos = nx.shell_layout(G_new)\n",
    "    \n",
    "    figure(figsize=(10, 10), dpi=80)\n",
    "    \n",
    "    #we extract and ponder the weights as we did in the previous visualizations\n",
    "    weights = [G_new[u][v]['weight'] for u,v in G_new.edges()]\n",
    "    weights = [w*4 for w in weights]\n",
    "    plt.title(\"All the required links to disconnect the two graphs\")\n",
    "\n",
    "    nx.draw(G_new, with_labels = True, node_color=\"orange\", width=weights, pos = pos)\n",
    "    \n",
    "    plt.draw()"
   ]
  },
  {
   "cell_type": "code",
   "execution_count": 35,
   "id": "18a61b51",
   "metadata": {},
   "outputs": [
    {
     "name": "stdout",
     "output_type": "stream",
     "text": [
      "Links to cut(min): 3, Total weight:0.712\n"
     ]
    },
    {
     "data": {
      "image/png": "[encoded data removed]",
      "text/plain": [
       "<Figure size 800x800 with 1 Axes>"
      ]
     },
     "metadata": {},
     "output_type": "display_data"
    }
   ],
   "source": [
    "# Example\n",
    "V4(G, time_interval1,time_interval2,u1,u2)"
   ]
  },
  {
   "cell_type": "markdown",
   "id": "05004955",
   "metadata": {},
   "source": [
    "# 4 Algorithmic question"
   ]
  },
  {
   "cell_type": "markdown",
   "id": "bc4c7c40",
   "metadata": {},
   "source": [
    "A number $n$ of kids are in a camp. Between some $k$ pairs of them (a kid can be part of more than one pairs) there are often fights. At night there are two dormitories where the kids can sleep. We want, if possible, to assign each kid in one of the two dormitories in such a way that each pair of kids that fights often is assigned to a different dormitory. (There are no space problems and the two dormitories can have different number of kids.)\n",
    "\n",
    "We propose an algorithm that is linear in $n$ and $k$ (there are two for cycles in $k$ and one in $n$ so $T(n)=2O(k)+O(n)+O(1)$) that is able to answer whether such an assignment is possible and, if so, return one.\n",
    "\n",
    "The idea is as follows:\n",
    "- sort the couples in k and enumerate the kids as $1,2,\\dots, n$\n",
    "- for each $(a,b)$ in one of the $k$ pairs, assign a to the first dormitory and $b$ to the second dormitory;\n",
    "- then for each remaining kid assign it (for example) to the first dormitory \n",
    "- check in each dormitory if there are couples in k, if there are the problem will not have solution"
   ]
  },
  {
   "cell_type": "code",
   "execution_count": 36,
   "id": "bfaa4306",
   "metadata": {},
   "outputs": [],
   "source": [
    "def exchange(tup): \n",
    "    \"\"\"\n",
    "    Function to sort a couple's components\n",
    "    \"\"\"\n",
    "    if tup[0] > tup[1]:\n",
    "        tup = list(tup) \n",
    "        _ = tup[0]\n",
    "        tup[0] = tup[1]\n",
    "        tup[1] = _\n",
    "        return tuple(tup)\n",
    "    else:\n",
    "        return tup"
   ]
  },
  {
   "cell_type": "code",
   "execution_count": 37,
   "id": "babb4cb5",
   "metadata": {},
   "outputs": [],
   "source": [
    "def algo(n, k): \n",
    "    \"\"\"\n",
    "    Proposed algorithm\n",
    "    \"\"\"\n",
    "    \n",
    "    # dormitories\n",
    "    n = range(1,n+1)\n",
    "    dorm_1 = [] \n",
    "    dorm_2 = [] \n",
    "    \n",
    "    # kids already assigned\n",
    "    checked = [] \n",
    "    \n",
    "    # counter\n",
    "    count = 0\n",
    "    \n",
    "    for pair in k:\n",
    "        # order pair components\n",
    "        pair = exchange(pair)\n",
    "        \n",
    "        # add non assigned kids (taken from pair[0]) to dorm_1\n",
    "        if checked.count(pair[0]) == 0: \n",
    "            checked.append(pair[0]) \n",
    "            dorm_1.append(pair[0]) \n",
    "        \n",
    "        # add non assigned kids (taken from pair[1]) to dorm_2\n",
    "        if checked.count(pair[1]) == 0: \n",
    "            dorm_2.append(pair[1]) \n",
    "            checked.append(pair[1]) \n",
    "    \n",
    "    # assign all the remaining kids (that are not in k)\n",
    "    for kid in n: \n",
    "        if (dorm_1.count(kid) == 0) and (dorm_2.count(kid) == 0):\n",
    "            dorm_1.append(kid) \n",
    "    \n",
    "    for i in k: \n",
    "        # check if a couple of k is in the same dormitory\n",
    "        # in such a case increment count \n",
    "        # Remark: if count is non zero the problem has no solution\n",
    "        boolean = ((dorm_1.count(i[0]) != 0) and (dorm_1.count(i[1]) != 0)) or \\\n",
    "        ((dorm_2.count(i[0]) != 0) and (dorm_2.count(i[1]) != 0))\n",
    "        \n",
    "        if boolean:\n",
    "            count += 1\n",
    "            \n",
    "    if count:\n",
    "        print(\"The problem has no solution\")\n",
    "        \n",
    "    else:\n",
    "        print(\"dorm_1\", dorm_1)\n",
    "        print(\"dorm_2\", dorm_2)\n",
    "    "
   ]
  },
  {
   "cell_type": "markdown",
   "id": "1544c80f",
   "metadata": {},
   "source": [
    "## Some Examples"
   ]
  },
  {
   "cell_type": "code",
   "execution_count": 38,
   "id": "b6b37c79",
   "metadata": {},
   "outputs": [
    {
     "name": "stdout",
     "output_type": "stream",
     "text": [
      "dorm_1 [1, 3, 4, 5]\n",
      "dorm_2 [2]\n"
     ]
    }
   ],
   "source": [
    "k = [(1,2)]\n",
    "n = 5\n",
    "algo(n,k)"
   ]
  },
  {
   "cell_type": "code",
   "execution_count": 39,
   "id": "1a1bec59",
   "metadata": {},
   "outputs": [
    {
     "name": "stdout",
     "output_type": "stream",
     "text": [
      "dorm_1 [1, 3, 4, 7, 8, 9]\n",
      "dorm_2 [2, 5, 6, 10]\n"
     ]
    }
   ],
   "source": [
    "k = [(1,2),(3,5),(4,6),(1,10)]\n",
    "n = 10\n",
    "algo(n,k)"
   ]
  },
  {
   "cell_type": "code",
   "execution_count": 40,
   "id": "68359f5c",
   "metadata": {},
   "outputs": [
    {
     "name": "stdout",
     "output_type": "stream",
     "text": [
      "The problem has no solution\n"
     ]
    }
   ],
   "source": [
    "k = [(1,2),(2,3),(3,1)]\n",
    "n = 6\n",
    "algo(n,k)"
   ]
  },
  {
   "cell_type": "markdown",
   "id": "a6435c38",
   "metadata": {},
   "source": [
    "**Remark .** Why do we need to sort the $k$ pairs first? Well, consider the following counterexample\n",
    "- $k = \\{(1,2),(3,1)\\}$\n",
    "- $n = 5$\n",
    "\n",
    "Then, without the initial sorting, the algorithm wouldn't find a solution (to verify it comment the line `pair = exchange(pair)`), but by a direct calculation we see that \n",
    "\n",
    "`dorm_1=[1,4,5]`\n",
    "\n",
    "`dorm_2 = [2,3]` \n",
    "\n",
    "is a solution. Indeed, without the initial sorting the kid labled with 1 cannot be assigned to any dormitory."
   ]
  },
  {
   "cell_type": "code",
   "execution_count": null,
   "id": "7bb502d0",
   "metadata": {},
   "outputs": [],
   "source": []
  }
 ],
 "metadata": {
  "kernelspec": {
   "display_name": "Python 3",
   "language": "python",
   "name": "python3"
  },
  "language_info": {
   "codemirror_mode": {
    "name": "ipython",
    "version": 3
   },
   "file_extension": ".py",
   "mimetype": "text/x-python",
   "name": "python",
   "nbconvert_exporter": "python",
   "pygments_lexer": "ipython3",
   "version": "3.8.8"
  }
 },
 "nbformat": 4,
 "nbformat_minor": 5
}
